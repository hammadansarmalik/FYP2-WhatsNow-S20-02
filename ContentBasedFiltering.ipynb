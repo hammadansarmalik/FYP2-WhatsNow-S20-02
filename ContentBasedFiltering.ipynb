{
 "cells": [
  {
   "cell_type": "code",
   "execution_count": 6,
   "metadata": {},
   "outputs": [],
   "source": [
    "import pickle\n",
    "import pandas as pd"
   ]
  },
  {
   "cell_type": "code",
   "execution_count": 2,
   "metadata": {},
   "outputs": [],
   "source": [
    "with open(\"SimilaritiesWithIds.pkl\", \"rb\") as f:\n",
    "    SimilaritiesWithIds= pickle.load(f)\n",
    "    f.close()"
   ]
  },
  {
   "cell_type": "code",
   "execution_count": 8,
   "metadata": {},
   "outputs": [
    {
     "name": "stderr",
     "output_type": "stream",
     "text": [
      "/home/abuzar/anaconda3/lib/python3.7/site-packages/IPython/core/interactiveshell.py:3058: DtypeWarning: Columns (10,15,16) have mixed types. Specify dtype option on import or set low_memory=False.\n",
      "  interactivity=interactivity, compiler=compiler, result=result)\n"
     ]
    }
   ],
   "source": [
    "movies=pd.read_csv('DataSets/movies_metadata.csv')\n"
   ]
  },
  {
   "cell_type": "code",
   "execution_count": 10,
   "metadata": {},
   "outputs": [],
   "source": [
    "movies=movies.head(1000)"
   ]
  },
  {
   "cell_type": "code",
   "execution_count": 69,
   "metadata": {},
   "outputs": [],
   "source": [
    "for i in range (0,len(SimilaritiesWithIds)):\n",
    "    for j in range(0,10):\n",
    "        val=movies.loc[movies['id']== SimilaritiesWithIds[i][j]['Ids']]\n",
    "        val2=val['original_title'].values\n",
    "        SimilaritiesWithIds[i][j]['Movie_Name']=val2[0] \n",
    "        val=movies.loc[movies['id']== SimilaritiesWithIds[i][j]['main_id']]\n",
    "        val2=val['original_title'].values\n",
    "        SimilaritiesWithIds[i][j]['Similar_to']=val2[0] "
   ]
  },
  {
   "cell_type": "code",
   "execution_count": 74,
   "metadata": {},
   "outputs": [],
   "source": [
    "MovieId,MovieName,SimilarTo=[],[],[]\n",
    "for i in range (0,len(SimilaritiesWithIds)):\n",
    "    for j in range (0,10):\n",
    "        MovieId.append(SimilaritiesWithIds[i][j]['Ids'])\n",
    "        MovieName.append(SimilaritiesWithIds[i][j]['Movie_Name'])\n",
    "        SimilarTo.append(SimilaritiesWithIds[i][j]['Similar_to'])\n",
    "        "
   ]
  },
  {
   "cell_type": "code",
   "execution_count": 78,
   "metadata": {},
   "outputs": [],
   "source": [
    "ContentBasedFiltering = pd.DataFrame({'Movie_Id':MovieId, 'Movie_Name':MovieName, 'Similar_To':SimilarTo})"
   ]
  },
  {
   "cell_type": "code",
   "execution_count": 82,
   "metadata": {},
   "outputs": [],
   "source": [
    "ContentBasedFiltering.to_csv('ContentFilteringResults.csv',index=False)"
   ]
  },
  {
   "cell_type": "code",
   "execution_count": null,
   "metadata": {},
   "outputs": [],
   "source": []
  }
 ],
 "metadata": {
  "kernelspec": {
   "display_name": "Python 3",
   "language": "python",
   "name": "python3"
  },
  "language_info": {
   "codemirror_mode": {
    "name": "ipython",
    "version": 3
   },
   "file_extension": ".py",
   "mimetype": "text/x-python",
   "name": "python",
   "nbconvert_exporter": "python",
   "pygments_lexer": "ipython3",
   "version": "3.7.4"
  }
 },
 "nbformat": 4,
 "nbformat_minor": 2
}
