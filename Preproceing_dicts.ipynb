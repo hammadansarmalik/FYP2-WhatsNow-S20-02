{
 "cells": [
  {
   "cell_type": "code",
   "execution_count": 1,
   "metadata": {},
   "outputs": [],
   "source": [
    "import pickle\n",
    "import pandas as pd\n",
    "import numpy as np\n",
    "from sklearn.feature_extraction.text import TfidfVectorizer\n",
    "import json \n",
    "import ast\n",
    "import csv"
   ]
  },
  {
   "cell_type": "code",
   "execution_count": 2,
   "metadata": {},
   "outputs": [
    {
     "name": "stderr",
     "output_type": "stream",
     "text": [
      "/home/abuzar/anaconda3/lib/python3.7/site-packages/IPython/core/interactiveshell.py:3058: DtypeWarning: Columns (10,15,16) have mixed types. Specify dtype option on import or set low_memory=False.\n",
      "  interactivity=interactivity, compiler=compiler, result=result)\n"
     ]
    }
   ],
   "source": [
    "movies=pd.read_csv('DataSets/movies_metadata.csv')"
   ]
  },
  {
   "cell_type": "code",
   "execution_count": 3,
   "metadata": {},
   "outputs": [],
   "source": [
    "credits=pd.read_csv('DataSets/credits.csv')"
   ]
  },
  {
   "cell_type": "code",
   "execution_count": 4,
   "metadata": {},
   "outputs": [],
   "source": [
    "credits=credits.drop(credits.columns[2],axis=1)"
   ]
  },
  {
   "cell_type": "code",
   "execution_count": 5,
   "metadata": {},
   "outputs": [],
   "source": [
    "Data=movies.join(credits)"
   ]
  },
  {
   "cell_type": "code",
   "execution_count": 6,
   "metadata": {},
   "outputs": [],
   "source": [
    "with open(\"crewlist.pkl\", \"rb\") as f:\n",
    "    FinalCrewList = pickle.load(f)\n",
    "    f.close()"
   ]
  },
  {
   "cell_type": "code",
   "execution_count": 7,
   "metadata": {},
   "outputs": [],
   "source": [
    "with open(\"castlist.pkl\", \"rb\") as f:\n",
    "    FinalCastList = pickle.load(f)\n",
    "    f.close()"
   ]
  },
  {
   "cell_type": "code",
   "execution_count": 8,
   "metadata": {},
   "outputs": [],
   "source": [
    "with open(\"movielist.pkl\", \"rb\") as f:\n",
    "    FinalMovieList = pickle.load(f)\n",
    "    f.close()"
   ]
  },
  {
   "cell_type": "code",
   "execution_count": 9,
   "metadata": {},
   "outputs": [],
   "source": [
    "FinalMovieList=FinalMovieList[0:1000]\n",
    "FinalCrewList=FinalCrewList[0:1000]\n",
    "FinalCastList=FinalCastList[0:1000]"
   ]
  },
  {
   "cell_type": "code",
   "execution_count": 10,
   "metadata": {},
   "outputs": [],
   "source": [
    "def EctractMeaningful(List,Resultant,Size):\n",
    "    index=0\n",
    "    empty=True\n",
    "    for i in range(0,Size,1):\n",
    "        for j in range(0,len(List[i]),1):\n",
    "            found = False\n",
    "            temp=List[i][j]\n",
    "            if temp!='':\n",
    "                if(empty!=True):\n",
    "                    for k in range(0,len(Resultant),1):\n",
    "                        if(List[i][j]==Resultant[k]):\n",
    "                            found=True\n",
    "                    if found==False:\n",
    "                        Resultant.insert(index, temp)\n",
    "                        index+=1\n",
    "                else:\n",
    "                    empty=False\n",
    "                    Resultant.insert(index, temp)\n",
    "                    index+=1\n",
    "    return Resultant"
   ]
  },
  {
   "cell_type": "code",
   "execution_count": 11,
   "metadata": {},
   "outputs": [],
   "source": [
    "def DictToWords(List,Resultant,String,Size):\n",
    "    feild=[]\n",
    "    for i in range (0,len(List)):\n",
    "        temp_list=[]\n",
    "        for j in range (0,len(List[i])):\n",
    "            temp_list.append(List[i][j][String])\n",
    "        feild.append(temp_list)\n",
    "    Resultant=EctractMeaningful(feild,Resultant,len(feild))\n",
    "    return Resultant\n",
    "Genres_=[]\n",
    "Genres_=DictToWords(FinalMovieList,Genres_,'name',len(FinalMovieList))\n",
    "jobs=[]\n",
    "jobs=DictToWords(FinalCrewList,jobs,'job',len(FinalCrewList))"
   ]
  },
  {
   "cell_type": "code",
   "execution_count": 12,
   "metadata": {},
   "outputs": [],
   "source": [
    "Genre_vector=np.zeros((len(FinalMovieList),len(jobs)), dtype=int)"
   ]
  },
  {
   "cell_type": "code",
   "execution_count": 13,
   "metadata": {},
   "outputs": [],
   "source": [
    "def ToVect(List,Tags,String,Size):\n",
    "    Resultant=np.zeros((len(FinalMovieList),len(Tags)), dtype=int)\n",
    "    for i in range (0,Size):\n",
    "        for j in range(0,len(List[i])):\n",
    "            index=-1\n",
    "            for k in range(0,len(Tags)):\n",
    "                if List[i][j][String]==Tags[k]:\n",
    "                    index=k\n",
    "                    break\n",
    "            if (index!=-1):\n",
    "                Resultant[i][index]=1\n",
    "    return Resultant\n"
   ]
  },
  {
   "cell_type": "code",
   "execution_count": 14,
   "metadata": {},
   "outputs": [
    {
     "data": {
      "text/plain": [
       "['Animation',\n",
       " 'Comedy',\n",
       " 'Family',\n",
       " 'Adventure',\n",
       " 'Fantasy',\n",
       " 'Romance',\n",
       " 'Drama',\n",
       " 'Action',\n",
       " 'Crime',\n",
       " 'Thriller',\n",
       " 'Horror',\n",
       " 'History',\n",
       " 'Science Fiction',\n",
       " 'Mystery',\n",
       " 'War',\n",
       " 'Foreign',\n",
       " 'Music',\n",
       " 'Documentary',\n",
       " 'Western',\n",
       " 'TV Movie']"
      ]
     },
     "execution_count": 14,
     "metadata": {},
     "output_type": "execute_result"
    }
   ],
   "source": [
    "Genres_"
   ]
  },
  {
   "cell_type": "code",
   "execution_count": 16,
   "metadata": {},
   "outputs": [],
   "source": [
    "Gen1 = open('Genres.pkl', 'wb')\n",
    "pickle.dump(Genres_, Gen1)"
   ]
  },
  {
   "cell_type": "code",
   "execution_count": 10,
   "metadata": {},
   "outputs": [],
   "source": [
    "Genre=ToVect(FinalMovieList,Genres_,'name',len(FinalMovieList))"
   ]
  },
  {
   "cell_type": "code",
   "execution_count": 11,
   "metadata": {},
   "outputs": [],
   "source": [
    "GenresDF=pd.DataFrame(Genre,columns=Genres_)"
   ]
  },
  {
   "cell_type": "code",
   "execution_count": null,
   "metadata": {},
   "outputs": [],
   "source": []
  },
  {
   "cell_type": "code",
   "execution_count": 12,
   "metadata": {},
   "outputs": [],
   "source": [
    "Reqjobs=['Director']"
   ]
  },
  {
   "cell_type": "code",
   "execution_count": 13,
   "metadata": {},
   "outputs": [],
   "source": [
    "temp=[]\n",
    "Job_positions = {}\n",
    "for i in jobs:\n",
    "    Job_positions[i] = []\n",
    "for i in range(0,len(FinalCrewList),1):\n",
    "    for j in range(0,len(FinalCrewList[i]),1):\n",
    "        \n",
    "        index=-1\n",
    "        for k in range(0,len(Reqjobs)):\n",
    "            if FinalCrewList[i][j]['job']==Reqjobs[k]:\n",
    "                index=k\n",
    "        if (index!=-1):\n",
    "            Job_positions[Reqjobs[index]].append(FinalCrewList[i][j]['name']) "
   ]
  },
  {
   "cell_type": "code",
   "execution_count": 14,
   "metadata": {},
   "outputs": [],
   "source": [
    "for i in range(0,len(Reqjobs)):\n",
    "        Job_positions[Reqjobs[i]]=list(set(Job_positions[Reqjobs[i]]))"
   ]
  },
  {
   "cell_type": "code",
   "execution_count": 15,
   "metadata": {},
   "outputs": [],
   "source": [
    "def ToVectUpdate(List,Tags,String,Type,ParentTag,Size):\n",
    "    Resultant=np.zeros((len(FinalMovieList),len(Tags)), dtype=int)\n",
    "    for i in range (0,Size):\n",
    "        for j in range(0,len(List[i])):\n",
    "            index=-1\n",
    "            found=False\n",
    "            if List[i][j][Type]==ParentTag:\n",
    "                    found=True\n",
    "            if found==True:\n",
    "                for k in range(0,len(Tags)): \n",
    "                    if List[i][j][String]==Tags[k]:\n",
    "                        index=k\n",
    "                        break\n",
    "            if (index!=-1):\n",
    "                Resultant[i][index]=1\n",
    "    return Resultant"
   ]
  },
  {
   "cell_type": "code",
   "execution_count": 16,
   "metadata": {},
   "outputs": [
    {
     "name": "stdout",
     "output_type": "stream",
     "text": [
      "(1000, 796)\n"
     ]
    }
   ],
   "source": [
    "Allcast= pd.DataFrame()\n",
    "temp=[]\n",
    "temp2=[]\n",
    "#sum_=0\n",
    "for i in range(0,len(Reqjobs)):\n",
    "    Vectors=[]\n",
    "    Vectors=ToVectUpdate(FinalCrewList,Job_positions[Reqjobs[i]],'name','job',Reqjobs[i],len(FinalCrewList))\n",
    "    VectorsDf = pd.DataFrame(Vectors,columns=Job_positions[Reqjobs[i]])\n",
    "    \n",
    "print (VectorsDf.shape)\n"
   ]
  },
  {
   "cell_type": "code",
   "execution_count": 17,
   "metadata": {},
   "outputs": [],
   "source": [
    "Actors=[]\n",
    "Actors=DictToWords(FinalCastList,Actors,'name',len(FinalCastList))"
   ]
  },
  {
   "cell_type": "code",
   "execution_count": 18,
   "metadata": {},
   "outputs": [],
   "source": [
    "actor_vector=ToVect(FinalCastList,Actors,'name',len(FinalCastList))"
   ]
  },
  {
   "cell_type": "code",
   "execution_count": 19,
   "metadata": {},
   "outputs": [],
   "source": [
    "AllActors = pd.DataFrame(actor_vector,columns=Actors)"
   ]
  },
  {
   "cell_type": "code",
   "execution_count": 20,
   "metadata": {},
   "outputs": [],
   "source": [
    "Final_DataFrame_vector=pd.DataFrame()"
   ]
  },
  {
   "cell_type": "code",
   "execution_count": 21,
   "metadata": {},
   "outputs": [],
   "source": [
    "Final_DataFrame_vector=pd.concat([GenresDF,VectorsDf],axis=1)"
   ]
  },
  {
   "cell_type": "code",
   "execution_count": 22,
   "metadata": {},
   "outputs": [],
   "source": [
    "Final_DataFrame_vector=pd.concat([Final_DataFrame_vector,AllActors],axis=1)"
   ]
  },
  {
   "cell_type": "code",
   "execution_count": 28,
   "metadata": {},
   "outputs": [],
   "source": [
    "Final_DataFrame_vector=Final_DataFrame_vector.join(Data['id'])"
   ]
  },
  {
   "cell_type": "code",
   "execution_count": null,
   "metadata": {},
   "outputs": [],
   "source": [
    "Final_DataFrame_vector.to_csv('Atributes_vectors.csv',index=False)"
   ]
  },
  {
   "cell_type": "code",
   "execution_count": null,
   "metadata": {},
   "outputs": [],
   "source": []
  }
 ],
 "metadata": {
  "kernelspec": {
   "display_name": "Python 3",
   "language": "python",
   "name": "python3"
  },
  "language_info": {
   "codemirror_mode": {
    "name": "ipython",
    "version": 3
   },
   "file_extension": ".py",
   "mimetype": "text/x-python",
   "name": "python",
   "nbconvert_exporter": "python",
   "pygments_lexer": "ipython3",
   "version": "3.7.4"
  }
 },
 "nbformat": 4,
 "nbformat_minor": 2
}
