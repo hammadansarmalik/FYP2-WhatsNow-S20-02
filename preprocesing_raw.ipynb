{
 "cells": [
  {
   "cell_type": "code",
   "execution_count": 1,
   "metadata": {},
   "outputs": [],
   "source": [
    "import pickle\n",
    "import pandas as pd\n",
    "import numpy as np\n",
    "from sklearn.feature_extraction.text import TfidfVectorizer\n",
    "import json \n",
    "import ast\n",
    "import csv"
   ]
  },
  {
   "cell_type": "code",
   "execution_count": 2,
   "metadata": {},
   "outputs": [
    {
     "name": "stderr",
     "output_type": "stream",
     "text": [
      "/home/abuzar/anaconda3/lib/python3.7/site-packages/IPython/core/interactiveshell.py:3058: DtypeWarning: Columns (10,15,16) have mixed types. Specify dtype option on import or set low_memory=False.\n",
      "  interactivity=interactivity, compiler=compiler, result=result)\n"
     ]
    }
   ],
   "source": [
    "movies=pd.read_csv('DataSets/movies_metadata.csv')"
   ]
  },
  {
   "cell_type": "code",
   "execution_count": 3,
   "metadata": {},
   "outputs": [
    {
     "data": {
      "text/plain": [
       "Index(['adult', 'belongs_to_collection', 'budget', 'genres', 'homepage', 'id',\n",
       "       'imdb_id', 'original_language', 'original_title', 'overview',\n",
       "       'popularity', 'poster_path', 'production_companies',\n",
       "       'production_countries', 'release_date', 'revenue', 'runtime',\n",
       "       'spoken_languages', 'status', 'tagline', 'title', 'video',\n",
       "       'vote_average', 'vote_count'],\n",
       "      dtype='object')"
      ]
     },
     "execution_count": 3,
     "metadata": {},
     "output_type": "execute_result"
    }
   ],
   "source": [
    "movies.columns"
   ]
  },
  {
   "cell_type": "code",
   "execution_count": 3,
   "metadata": {},
   "outputs": [],
   "source": [
    "credits=pd.read_csv('DataSets/credits.csv')"
   ]
  },
  {
   "cell_type": "code",
   "execution_count": 4,
   "metadata": {},
   "outputs": [],
   "source": [
    "credits=credits.drop(credits.columns[2],axis=1)"
   ]
  },
  {
   "cell_type": "code",
   "execution_count": 5,
   "metadata": {},
   "outputs": [],
   "source": [
    "Data=movies.join(credits)"
   ]
  },
  {
   "cell_type": "code",
   "execution_count": 6,
   "metadata": {},
   "outputs": [],
   "source": [
    "cols=['id','genres','original_language','original_title','overview','cast','crew']"
   ]
  },
  {
   "cell_type": "code",
   "execution_count": 7,
   "metadata": {},
   "outputs": [],
   "source": [
    "Final_data=Data[cols]"
   ]
  },
  {
   "cell_type": "code",
   "execution_count": 8,
   "metadata": {},
   "outputs": [
    {
     "data": {
      "text/html": [
       "<div>\n",
       "<style scoped>\n",
       "    .dataframe tbody tr th:only-of-type {\n",
       "        vertical-align: middle;\n",
       "    }\n",
       "\n",
       "    .dataframe tbody tr th {\n",
       "        vertical-align: top;\n",
       "    }\n",
       "\n",
       "    .dataframe thead th {\n",
       "        text-align: right;\n",
       "    }\n",
       "</style>\n",
       "<table border=\"1\" class=\"dataframe\">\n",
       "  <thead>\n",
       "    <tr style=\"text-align: right;\">\n",
       "      <th></th>\n",
       "      <th>id</th>\n",
       "      <th>genres</th>\n",
       "      <th>original_language</th>\n",
       "      <th>original_title</th>\n",
       "      <th>overview</th>\n",
       "      <th>cast</th>\n",
       "      <th>crew</th>\n",
       "    </tr>\n",
       "  </thead>\n",
       "  <tbody>\n",
       "    <tr>\n",
       "      <td>0</td>\n",
       "      <td>862</td>\n",
       "      <td>[{'id': 16, 'name': 'Animation'}, {'id': 35, '...</td>\n",
       "      <td>en</td>\n",
       "      <td>Toy Story</td>\n",
       "      <td>Led by Woody, Andy's toys live happily in his ...</td>\n",
       "      <td>[{'cast_id': 14, 'character': 'Woody (voice)',...</td>\n",
       "      <td>[{'credit_id': '52fe4284c3a36847f8024f49', 'de...</td>\n",
       "    </tr>\n",
       "    <tr>\n",
       "      <td>1</td>\n",
       "      <td>8844</td>\n",
       "      <td>[{'id': 12, 'name': 'Adventure'}, {'id': 14, '...</td>\n",
       "      <td>en</td>\n",
       "      <td>Jumanji</td>\n",
       "      <td>When siblings Judy and Peter discover an encha...</td>\n",
       "      <td>[{'cast_id': 1, 'character': 'Alan Parrish', '...</td>\n",
       "      <td>[{'credit_id': '52fe44bfc3a36847f80a7cd1', 'de...</td>\n",
       "    </tr>\n",
       "    <tr>\n",
       "      <td>2</td>\n",
       "      <td>15602</td>\n",
       "      <td>[{'id': 10749, 'name': 'Romance'}, {'id': 35, ...</td>\n",
       "      <td>en</td>\n",
       "      <td>Grumpier Old Men</td>\n",
       "      <td>A family wedding reignites the ancient feud be...</td>\n",
       "      <td>[{'cast_id': 2, 'character': 'Max Goldman', 'c...</td>\n",
       "      <td>[{'credit_id': '52fe466a9251416c75077a89', 'de...</td>\n",
       "    </tr>\n",
       "    <tr>\n",
       "      <td>3</td>\n",
       "      <td>31357</td>\n",
       "      <td>[{'id': 35, 'name': 'Comedy'}, {'id': 18, 'nam...</td>\n",
       "      <td>en</td>\n",
       "      <td>Waiting to Exhale</td>\n",
       "      <td>Cheated on, mistreated and stepped on, the wom...</td>\n",
       "      <td>[{'cast_id': 1, 'character': \"Savannah 'Vannah...</td>\n",
       "      <td>[{'credit_id': '52fe44779251416c91011acb', 'de...</td>\n",
       "    </tr>\n",
       "    <tr>\n",
       "      <td>4</td>\n",
       "      <td>11862</td>\n",
       "      <td>[{'id': 35, 'name': 'Comedy'}]</td>\n",
       "      <td>en</td>\n",
       "      <td>Father of the Bride Part II</td>\n",
       "      <td>Just when George Banks has recovered from his ...</td>\n",
       "      <td>[{'cast_id': 1, 'character': 'George Banks', '...</td>\n",
       "      <td>[{'credit_id': '52fe44959251416c75039ed7', 'de...</td>\n",
       "    </tr>\n",
       "    <tr>\n",
       "      <td>...</td>\n",
       "      <td>...</td>\n",
       "      <td>...</td>\n",
       "      <td>...</td>\n",
       "      <td>...</td>\n",
       "      <td>...</td>\n",
       "      <td>...</td>\n",
       "      <td>...</td>\n",
       "    </tr>\n",
       "    <tr>\n",
       "      <td>45457</td>\n",
       "      <td>439050</td>\n",
       "      <td>[{'id': 18, 'name': 'Drama'}, {'id': 10751, 'n...</td>\n",
       "      <td>fa</td>\n",
       "      <td>رگ خواب</td>\n",
       "      <td>Rising and falling between a man and woman.</td>\n",
       "      <td>[{'cast_id': 2, 'character': 'Man with whisker...</td>\n",
       "      <td>[{'credit_id': '52fe4684c3a36847f810345f', 'de...</td>\n",
       "    </tr>\n",
       "    <tr>\n",
       "      <td>45458</td>\n",
       "      <td>111109</td>\n",
       "      <td>[{'id': 18, 'name': 'Drama'}]</td>\n",
       "      <td>tl</td>\n",
       "      <td>Siglo ng Pagluluwal</td>\n",
       "      <td>An artist struggles to finish his work while a...</td>\n",
       "      <td>[]</td>\n",
       "      <td>[{'credit_id': '52fe4a74c3a368484e1542e9', 'de...</td>\n",
       "    </tr>\n",
       "    <tr>\n",
       "      <td>45459</td>\n",
       "      <td>67758</td>\n",
       "      <td>[{'id': 28, 'name': 'Action'}, {'id': 18, 'nam...</td>\n",
       "      <td>en</td>\n",
       "      <td>Betrayal</td>\n",
       "      <td>When one of her hits goes wrong, a professiona...</td>\n",
       "      <td>[{'cast_id': 1, 'character': 'Roo (voice)', 'c...</td>\n",
       "      <td>[{'credit_id': '52fe46249251416c7506e969', 'de...</td>\n",
       "    </tr>\n",
       "    <tr>\n",
       "      <td>45460</td>\n",
       "      <td>227506</td>\n",
       "      <td>[]</td>\n",
       "      <td>en</td>\n",
       "      <td>Satana likuyushchiy</td>\n",
       "      <td>In a small town live two brothers, one a minis...</td>\n",
       "      <td>[{'cast_id': 3, 'character': 'All the members ...</td>\n",
       "      <td>[{'credit_id': '52fe478dc3a36847f813bd6b', 'de...</td>\n",
       "    </tr>\n",
       "    <tr>\n",
       "      <td>45461</td>\n",
       "      <td>461257</td>\n",
       "      <td>[]</td>\n",
       "      <td>en</td>\n",
       "      <td>Queerama</td>\n",
       "      <td>50 years after decriminalisation of homosexual...</td>\n",
       "      <td>[{'cast_id': 2, 'character': '', 'credit_id': ...</td>\n",
       "      <td>[{'credit_id': '52fe4a71c3a36847f81ce35b', 'de...</td>\n",
       "    </tr>\n",
       "  </tbody>\n",
       "</table>\n",
       "<p>44498 rows × 7 columns</p>\n",
       "</div>"
      ],
      "text/plain": [
       "           id                                             genres  \\\n",
       "0         862  [{'id': 16, 'name': 'Animation'}, {'id': 35, '...   \n",
       "1        8844  [{'id': 12, 'name': 'Adventure'}, {'id': 14, '...   \n",
       "2       15602  [{'id': 10749, 'name': 'Romance'}, {'id': 35, ...   \n",
       "3       31357  [{'id': 35, 'name': 'Comedy'}, {'id': 18, 'nam...   \n",
       "4       11862                     [{'id': 35, 'name': 'Comedy'}]   \n",
       "...       ...                                                ...   \n",
       "45457  439050  [{'id': 18, 'name': 'Drama'}, {'id': 10751, 'n...   \n",
       "45458  111109                      [{'id': 18, 'name': 'Drama'}]   \n",
       "45459   67758  [{'id': 28, 'name': 'Action'}, {'id': 18, 'nam...   \n",
       "45460  227506                                                 []   \n",
       "45461  461257                                                 []   \n",
       "\n",
       "      original_language               original_title  \\\n",
       "0                    en                    Toy Story   \n",
       "1                    en                      Jumanji   \n",
       "2                    en             Grumpier Old Men   \n",
       "3                    en            Waiting to Exhale   \n",
       "4                    en  Father of the Bride Part II   \n",
       "...                 ...                          ...   \n",
       "45457                fa                      رگ خواب   \n",
       "45458                tl          Siglo ng Pagluluwal   \n",
       "45459                en                     Betrayal   \n",
       "45460                en          Satana likuyushchiy   \n",
       "45461                en                     Queerama   \n",
       "\n",
       "                                                overview  \\\n",
       "0      Led by Woody, Andy's toys live happily in his ...   \n",
       "1      When siblings Judy and Peter discover an encha...   \n",
       "2      A family wedding reignites the ancient feud be...   \n",
       "3      Cheated on, mistreated and stepped on, the wom...   \n",
       "4      Just when George Banks has recovered from his ...   \n",
       "...                                                  ...   \n",
       "45457        Rising and falling between a man and woman.   \n",
       "45458  An artist struggles to finish his work while a...   \n",
       "45459  When one of her hits goes wrong, a professiona...   \n",
       "45460  In a small town live two brothers, one a minis...   \n",
       "45461  50 years after decriminalisation of homosexual...   \n",
       "\n",
       "                                                    cast  \\\n",
       "0      [{'cast_id': 14, 'character': 'Woody (voice)',...   \n",
       "1      [{'cast_id': 1, 'character': 'Alan Parrish', '...   \n",
       "2      [{'cast_id': 2, 'character': 'Max Goldman', 'c...   \n",
       "3      [{'cast_id': 1, 'character': \"Savannah 'Vannah...   \n",
       "4      [{'cast_id': 1, 'character': 'George Banks', '...   \n",
       "...                                                  ...   \n",
       "45457  [{'cast_id': 2, 'character': 'Man with whisker...   \n",
       "45458                                                 []   \n",
       "45459  [{'cast_id': 1, 'character': 'Roo (voice)', 'c...   \n",
       "45460  [{'cast_id': 3, 'character': 'All the members ...   \n",
       "45461  [{'cast_id': 2, 'character': '', 'credit_id': ...   \n",
       "\n",
       "                                                    crew  \n",
       "0      [{'credit_id': '52fe4284c3a36847f8024f49', 'de...  \n",
       "1      [{'credit_id': '52fe44bfc3a36847f80a7cd1', 'de...  \n",
       "2      [{'credit_id': '52fe466a9251416c75077a89', 'de...  \n",
       "3      [{'credit_id': '52fe44779251416c91011acb', 'de...  \n",
       "4      [{'credit_id': '52fe44959251416c75039ed7', 'de...  \n",
       "...                                                  ...  \n",
       "45457  [{'credit_id': '52fe4684c3a36847f810345f', 'de...  \n",
       "45458  [{'credit_id': '52fe4a74c3a368484e1542e9', 'de...  \n",
       "45459  [{'credit_id': '52fe46249251416c7506e969', 'de...  \n",
       "45460  [{'credit_id': '52fe478dc3a36847f813bd6b', 'de...  \n",
       "45461  [{'credit_id': '52fe4a71c3a36847f81ce35b', 'de...  \n",
       "\n",
       "[44498 rows x 7 columns]"
      ]
     },
     "execution_count": 8,
     "metadata": {},
     "output_type": "execute_result"
    }
   ],
   "source": [
    "Final_data.dropna()"
   ]
  },
  {
   "cell_type": "code",
   "execution_count": 9,
   "metadata": {},
   "outputs": [
    {
     "data": {
      "text/plain": [
       "0        [{'id': 16, 'name': 'Animation'}, {'id': 35, '...\n",
       "1        [{'id': 12, 'name': 'Adventure'}, {'id': 14, '...\n",
       "2        [{'id': 10749, 'name': 'Romance'}, {'id': 35, ...\n",
       "3        [{'id': 35, 'name': 'Comedy'}, {'id': 18, 'nam...\n",
       "4                           [{'id': 35, 'name': 'Comedy'}]\n",
       "                               ...                        \n",
       "45457    [{'id': 18, 'name': 'Drama'}, {'id': 10751, 'n...\n",
       "45458                        [{'id': 18, 'name': 'Drama'}]\n",
       "45459    [{'id': 28, 'name': 'Action'}, {'id': 18, 'nam...\n",
       "45460                                                   []\n",
       "45461                                                   []\n",
       "Name: genres, Length: 45462, dtype: object"
      ]
     },
     "execution_count": 9,
     "metadata": {},
     "output_type": "execute_result"
    }
   ],
   "source": [
    "crew_list=Final_data['crew']\n",
    "cast_list=Final_data['cast']\n",
    "movie_list=Final_data['genres']"
   ]
  },
  {
   "cell_type": "code",
   "execution_count": 10,
   "metadata": {},
   "outputs": [],
   "source": [
    "def ConvertToDict(ColumnsList,Resultant,Size):\n",
    "    for i in range (0,Size,1):\n",
    "        new_list=[]\n",
    "        dict1=[]\n",
    "        found=False\n",
    "        for j in range(0,len(ColumnsList[i]),1):\n",
    "            if (ColumnsList[i][j]=='{'):\n",
    "                found=True\n",
    "            elif ColumnsList[i][j]=='}':\n",
    "                if ColumnsList[i][j]:\n",
    "                    new_list+=ColumnsList[i][j]\n",
    "                found=False\n",
    "                list1=''.join(new_list)\n",
    "                dict1.append(ast.literal_eval(list1))\n",
    "                new_list=[]\n",
    "\n",
    "            if found==True:\n",
    "                if ColumnsList[i][j]:\n",
    "                    new_list+=ColumnsList[i][j]\n",
    "        Resultant.append(dict1)\n",
    "    return Resultant\n"
   ]
  },
  {
   "cell_type": "code",
   "execution_count": 12,
   "metadata": {},
   "outputs": [],
   "source": [
    "FinalCrewList=[]\n",
    "FinalCrewList=ConvertToDict(crew_list,FinalCrewList,len(crew_list))"
   ]
  },
  {
   "cell_type": "code",
   "execution_count": 1,
   "metadata": {},
   "outputs": [
    {
     "ename": "NameError",
     "evalue": "name 'ConvertToDict' is not defined",
     "output_type": "error",
     "traceback": [
      "\u001b[0;31m---------------------------------------------------------------------------\u001b[0m",
      "\u001b[0;31mNameError\u001b[0m                                 Traceback (most recent call last)",
      "\u001b[0;32m<ipython-input-1-149f8d3c172c>\u001b[0m in \u001b[0;36m<module>\u001b[0;34m\u001b[0m\n\u001b[1;32m      1\u001b[0m \u001b[0mFinalMovieList\u001b[0m\u001b[0;34m=\u001b[0m\u001b[0;34m[\u001b[0m\u001b[0;34m]\u001b[0m\u001b[0;34m\u001b[0m\u001b[0;34m\u001b[0m\u001b[0m\n\u001b[0;32m----> 2\u001b[0;31m \u001b[0mFinalMovieList\u001b[0m\u001b[0;34m=\u001b[0m\u001b[0mConvertToDict\u001b[0m\u001b[0;34m(\u001b[0m\u001b[0mmovie_list\u001b[0m\u001b[0;34m,\u001b[0m\u001b[0mFinalMovieList\u001b[0m\u001b[0;34m,\u001b[0m\u001b[0mlen\u001b[0m\u001b[0;34m(\u001b[0m\u001b[0mmovie_list\u001b[0m\u001b[0;34m)\u001b[0m\u001b[0;34m)\u001b[0m\u001b[0;34m\u001b[0m\u001b[0;34m\u001b[0m\u001b[0m\n\u001b[0m",
      "\u001b[0;31mNameError\u001b[0m: name 'ConvertToDict' is not defined"
     ]
    }
   ],
   "source": [
    "FinalMovieList=[]\n",
    "FinalMovieList=ConvertToDict(movie_list,FinalMovieList,len(movie_list))"
   ]
  },
  {
   "cell_type": "code",
   "execution_count": 14,
   "metadata": {},
   "outputs": [],
   "source": [
    "FinalCastList=[]\n",
    "FinalCastList=ConvertToDict(cast_list,FinalCastList,len(movie_list))"
   ]
  },
  {
   "cell_type": "code",
   "execution_count": 34,
   "metadata": {},
   "outputs": [],
   "source": [
    "crewlist = open('crewlist.pkl', 'wb')\n",
    "pickle.dump(FinalCrewList, crewlist)"
   ]
  },
  {
   "cell_type": "code",
   "execution_count": 33,
   "metadata": {},
   "outputs": [],
   "source": [
    "castlist = open('castlist.pkl', 'wb')\n",
    "pickle.dump(FinalCastList, castlist)"
   ]
  },
  {
   "cell_type": "code",
   "execution_count": 35,
   "metadata": {},
   "outputs": [],
   "source": [
    "movielist = open('movielist.pkl', 'wb')\n",
    "pickle.dump(FinalMovieList, movielist)"
   ]
  }
 ],
 "metadata": {
  "kernelspec": {
   "display_name": "Python 3",
   "language": "python",
   "name": "python3"
  },
  "language_info": {
   "codemirror_mode": {
    "name": "ipython",
    "version": 3
   },
   "file_extension": ".py",
   "mimetype": "text/x-python",
   "name": "python",
   "nbconvert_exporter": "python",
   "pygments_lexer": "ipython3",
   "version": "3.7.4"
  }
 },
 "nbformat": 4,
 "nbformat_minor": 2
}
